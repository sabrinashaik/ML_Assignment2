{
 "cells": [
  {
   "cell_type": "markdown",
   "metadata": {},
   "source": [
    "Q1. Numpy:\n",
    "Using NumPy create random vector of size 15 having only Integers in the range 1-20.\n",
    "1. Reshape the array to 3 by 5\n",
    "2. Print array shape.\n",
    "3. Replace the max in each row by 0"
   ]
  },
  {
   "cell_type": "code",
   "execution_count": 48,
   "metadata": {},
   "outputs": [
    {
     "name": "stdout",
     "output_type": "stream",
     "text": [
      "[ 7 19  3  3 10  3  4  5  5  2  1  7 10 16 12] \n",
      "\n",
      "[[ 7 19  3  3 10]\n",
      " [ 3  4  5  5  2]\n",
      " [ 1  7 10 16 12]] \n",
      "\n",
      "(3, 5) \n",
      "\n",
      "[[ 7  0  3  3 10]\n",
      " [ 3  4  0  0  2]\n",
      " [ 1  7 10  0 12]]\n"
     ]
    }
   ],
   "source": [
    "import numpy as np\n",
    "vector1 = np.random.randint(1,20,15)\n",
    "print(vector1, \"\\n\")\n",
    "\n",
    "#reshaping the array to 3 by 5\n",
    "vector2=np.reshape(vector1,(3,5)) \n",
    "print(vector2,\"\\n\")\n",
    "\n",
    "print(vector2.shape,\"\\n\")\n",
    "\n",
    "max_elements = np.amax(vector2, axis = 1)\n",
    "max_elements = max_elements[: , None]\n",
    "\n",
    "#Replacing the max in each row by 0\n",
    "new_arr = np.where(vector2 == max_elements, 0, vector2)\n",
    "print(new_arr)"
   ]
  },
  {
   "cell_type": "markdown",
   "metadata": {},
   "source": [
    "Q2. Pandas\n",
    "1. Read the provided CSV file ‘data.csv’.\n",
    "https://drive.google.com/drive/folders/1h8C3mLsso-R-sIOLsvoYwPLzy2fJ4IOF?usp=sharing\n",
    "2. Show the basic statistical description about the data.\n",
    "3. Check if the data has null values.\n",
    "a. Replace the null values with the mean\n",
    "4. Select at least two columns and aggregate the data using: min, max, count, mean.\n",
    "5. Filter the dataframe to select the rows with calories values between 500 and 1000.\n",
    "6. Filter the dataframe to select the rows with calories values > 500 and pulse < 100.\n",
    "7. Create a new “df_modified” dataframe that contains all the columns from df except for “Maxpulse”.\n",
    "8. Delete the “Maxpulse” column from the main df dataframe\n",
    "9. Convert the datatype of Calories column to int datatype.\n",
    "10. Using pandas create a scatter plot for the two columns (Duration and Calories).\n",
    "\n",
    "    "
   ]
  },
  {
   "cell_type": "code",
   "execution_count": 49,
   "metadata": {},
   "outputs": [
    {
     "name": "stdout",
     "output_type": "stream",
     "text": [
      "    Duration  Pulse  Maxpulse  Calories\n",
      "0         60    110       130     409.1\n",
      "1         60    117       145     479.0\n",
      "2         60    103       135     340.0\n",
      "3         45    109       175     282.4\n",
      "4         45    117       148     406.0\n",
      "5         60    102       127     300.0\n",
      "6         60    110       136     374.0\n",
      "7         45    104       134     253.3\n",
      "8         30    109       133     195.1\n",
      "9         60     98       124     269.0\n",
      "10        60    103       147     329.3\n",
      "11        60    100       120     250.7\n",
      "12        60    106       128     345.3\n",
      "13        60    104       132     379.3\n",
      "14        60     98       123     275.0\n",
      "15        60     98       120     215.2\n",
      "16        60    100       120     300.0\n",
      "17        45     90       112       NaN\n",
      "18        60    103       123     323.0\n",
      "19        45     97       125     243.0\n",
      "20        60    108       131     364.2\n",
      "21        45    100       119     282.0\n",
      "22        60    130       101     300.0\n",
      "23        45    105       132     246.0\n",
      "24        60    102       126     334.5\n",
      "Statistical description \n",
      "          Duration       Pulse    Maxpulse     Calories\n",
      "count  169.000000  169.000000  169.000000   164.000000\n",
      "mean    63.846154  107.461538  134.047337   375.790244\n",
      "std     42.299949   14.510259   16.450434   266.379919\n",
      "min     15.000000   80.000000  100.000000    50.300000\n",
      "25%     45.000000  100.000000  124.000000   250.925000\n",
      "50%     60.000000  105.000000  131.000000   318.600000\n",
      "75%     60.000000  111.000000  141.000000   387.600000\n",
      "max    300.000000  159.000000  184.000000  1860.400000\n",
      "Statistical description of Duration column \n",
      " count    169.000000\n",
      "mean      63.846154\n",
      "std       42.299949\n",
      "min       15.000000\n",
      "25%       45.000000\n",
      "50%       60.000000\n",
      "75%       60.000000\n",
      "max      300.000000\n",
      "Name: Duration, dtype: float64\n",
      "Statistical description of Pulse column \n",
      " count    169.000000\n",
      "mean     107.461538\n",
      "std       14.510259\n",
      "min       80.000000\n",
      "25%      100.000000\n",
      "50%      105.000000\n",
      "75%      111.000000\n",
      "max      159.000000\n",
      "Name: Pulse, dtype: float64\n",
      "Duration    0\n",
      "Pulse       0\n",
      "Maxpulse    0\n",
      "Calories    5\n",
      "dtype: int64\n"
     ]
    }
   ],
   "source": [
    "import pandas as pd\n",
    "\n",
    "#reading the csv file into data frame df\n",
    "df=pd.read_csv(\"./data.csv\")\n",
    "\n",
    "print(df.head(25))\n",
    "\n",
    "print(\"Statistical description \\n\",df.describe())\n",
    "print(\"Statistical description of Duration column \\n\",df.Duration.describe())\n",
    "print(\"Statistical description of Pulse column \\n\",df.Pulse.describe())\n",
    "\n",
    "#Checking if the data has null values\n",
    "print(df.isnull().sum())\n"
   ]
  },
  {
   "cell_type": "code",
   "execution_count": 50,
   "metadata": {},
   "outputs": [
    {
     "name": "stdout",
     "output_type": "stream",
     "text": [
      "Duration    0\n",
      "Pulse       0\n",
      "Maxpulse    0\n",
      "Calories    5\n",
      "dtype: int64\n"
     ]
    }
   ],
   "source": [
    "#Checking if the data has null values\n",
    "print(df.isnull().sum())\n",
    "\n",
    "#Replacing the null values with the mean using filna()\n",
    "mean_value=df['Calories'].mean()\n",
    "df['Calories'].fillna(value=mean_value,inplace=True)\n"
   ]
  },
  {
   "cell_type": "code",
   "execution_count": 51,
   "metadata": {},
   "outputs": [
    {
     "name": "stdout",
     "output_type": "stream",
     "text": [
      "Mean of Pulse  107.46153846153847\n",
      "Mean of Calories  375.79024390243904\n",
      "Min pf Pulse  80\n",
      "Min of Calories  50.3\n",
      "Max pf Pulse  159\n",
      "Max of Calories \n",
      " 1860.4\n",
      "Count pf Pulse  169\n",
      "Count of Calories  169\n"
     ]
    }
   ],
   "source": [
    "print(\"Mean of Pulse \", df.Pulse.mean())\n",
    "print(\"Mean of Calories \",df.Calories.mean())\n",
    "\n",
    "print(\"Min pf Pulse \",df.Pulse.min())\n",
    "print(\"Min of Calories \",df.Calories.min())\n",
    "\n",
    "print(\"Max pf Pulse \",df.Pulse.max())\n",
    "print(\"Max of Calories \\n\",df.Calories.max())\n",
    "\n",
    "print(\"Count pf Pulse \",df.Pulse.count())\n",
    "print(\"Count of Calories \",df.Calories.count())\n"
   ]
  },
  {
   "cell_type": "code",
   "execution_count": 52,
   "metadata": {},
   "outputs": [
    {
     "data": {
      "text/html": [
       "<div>\n",
       "<style scoped>\n",
       "    .dataframe tbody tr th:only-of-type {\n",
       "        vertical-align: middle;\n",
       "    }\n",
       "\n",
       "    .dataframe tbody tr th {\n",
       "        vertical-align: top;\n",
       "    }\n",
       "\n",
       "    .dataframe thead th {\n",
       "        text-align: right;\n",
       "    }\n",
       "</style>\n",
       "<table border=\"1\" class=\"dataframe\">\n",
       "  <thead>\n",
       "    <tr style=\"text-align: right;\">\n",
       "      <th></th>\n",
       "      <th>Duration</th>\n",
       "      <th>Pulse</th>\n",
       "      <th>Maxpulse</th>\n",
       "      <th>Calories</th>\n",
       "    </tr>\n",
       "  </thead>\n",
       "  <tbody>\n",
       "    <tr>\n",
       "      <th>0</th>\n",
       "      <td>60</td>\n",
       "      <td>110</td>\n",
       "      <td>130</td>\n",
       "      <td>409.1</td>\n",
       "    </tr>\n",
       "    <tr>\n",
       "      <th>1</th>\n",
       "      <td>60</td>\n",
       "      <td>117</td>\n",
       "      <td>145</td>\n",
       "      <td>479.0</td>\n",
       "    </tr>\n",
       "    <tr>\n",
       "      <th>2</th>\n",
       "      <td>60</td>\n",
       "      <td>103</td>\n",
       "      <td>135</td>\n",
       "      <td>340.0</td>\n",
       "    </tr>\n",
       "    <tr>\n",
       "      <th>3</th>\n",
       "      <td>45</td>\n",
       "      <td>109</td>\n",
       "      <td>175</td>\n",
       "      <td>282.4</td>\n",
       "    </tr>\n",
       "    <tr>\n",
       "      <th>4</th>\n",
       "      <td>45</td>\n",
       "      <td>117</td>\n",
       "      <td>148</td>\n",
       "      <td>406.0</td>\n",
       "    </tr>\n",
       "    <tr>\n",
       "      <th>...</th>\n",
       "      <td>...</td>\n",
       "      <td>...</td>\n",
       "      <td>...</td>\n",
       "      <td>...</td>\n",
       "    </tr>\n",
       "    <tr>\n",
       "      <th>164</th>\n",
       "      <td>60</td>\n",
       "      <td>105</td>\n",
       "      <td>140</td>\n",
       "      <td>290.8</td>\n",
       "    </tr>\n",
       "    <tr>\n",
       "      <th>165</th>\n",
       "      <td>60</td>\n",
       "      <td>110</td>\n",
       "      <td>145</td>\n",
       "      <td>300.0</td>\n",
       "    </tr>\n",
       "    <tr>\n",
       "      <th>166</th>\n",
       "      <td>60</td>\n",
       "      <td>115</td>\n",
       "      <td>145</td>\n",
       "      <td>310.2</td>\n",
       "    </tr>\n",
       "    <tr>\n",
       "      <th>167</th>\n",
       "      <td>75</td>\n",
       "      <td>120</td>\n",
       "      <td>150</td>\n",
       "      <td>320.4</td>\n",
       "    </tr>\n",
       "    <tr>\n",
       "      <th>168</th>\n",
       "      <td>75</td>\n",
       "      <td>125</td>\n",
       "      <td>150</td>\n",
       "      <td>330.4</td>\n",
       "    </tr>\n",
       "  </tbody>\n",
       "</table>\n",
       "<p>169 rows × 4 columns</p>\n",
       "</div>"
      ],
      "text/plain": [
       "     Duration  Pulse  Maxpulse  Calories\n",
       "0          60    110       130     409.1\n",
       "1          60    117       145     479.0\n",
       "2          60    103       135     340.0\n",
       "3          45    109       175     282.4\n",
       "4          45    117       148     406.0\n",
       "..        ...    ...       ...       ...\n",
       "164        60    105       140     290.8\n",
       "165        60    110       145     300.0\n",
       "166        60    115       145     310.2\n",
       "167        75    120       150     320.4\n",
       "168        75    125       150     330.4\n",
       "\n",
       "[169 rows x 4 columns]"
      ]
     },
     "execution_count": 52,
     "metadata": {},
     "output_type": "execute_result"
    }
   ],
   "source": [
    "df[(df['Calories']>500) & (df['Calories']<1000)]\n",
    "df[(df['Calories']>500 & (df['Pulse']<100))]"
   ]
  },
  {
   "cell_type": "code",
   "execution_count": 53,
   "metadata": {},
   "outputs": [
    {
     "name": "stdout",
     "output_type": "stream",
     "text": [
      "     Duration  Pulse  Calories\n",
      "0          60    110     409.1\n",
      "1          60    117     479.0\n",
      "2          60    103     340.0\n",
      "3          45    109     282.4\n",
      "4          45    117     406.0\n",
      "..        ...    ...       ...\n",
      "164        60    105     290.8\n",
      "165        60    110     300.0\n",
      "166        60    115     310.2\n",
      "167        75    120     320.4\n",
      "168        75    125     330.4\n",
      "\n",
      "[169 rows x 3 columns]\n",
      "     Duration  Pulse  Calories\n",
      "0          60    110     409.1\n",
      "1          60    117     479.0\n",
      "2          60    103     340.0\n",
      "3          45    109     282.4\n",
      "4          45    117     406.0\n",
      "..        ...    ...       ...\n",
      "164        60    105     290.8\n",
      "165        60    110     300.0\n",
      "166        60    115     310.2\n",
      "167        75    120     320.4\n",
      "168        75    125     330.4\n",
      "\n",
      "[169 rows x 3 columns]\n"
     ]
    }
   ],
   "source": [
    "#df_modified with out Maxpulse column\n",
    "df_modified=df.drop(\"Maxpulse\",axis=1)\n",
    "\n",
    "print(df_modified)\n",
    "\n",
    "df=df.drop(\"Maxpulse\",axis=1)\n",
    "\n",
    "print(df)"
   ]
  },
  {
   "cell_type": "code",
   "execution_count": 54,
   "metadata": {},
   "outputs": [
    {
     "name": "stdout",
     "output_type": "stream",
     "text": [
      "Duration    int64\n",
      "Pulse       int64\n",
      "Calories    int32\n",
      "dtype: object \n",
      "\n"
     ]
    },
    {
     "data": {
      "text/plain": [
       "<matplotlib.axes._subplots.AxesSubplot at 0x199ffa76fc8>"
      ]
     },
     "execution_count": 54,
     "metadata": {},
     "output_type": "execute_result"
    },
    {
     "data": {
      "image/png": "[encoded data removed]",
      "text/plain": [
       "<Figure size 432x288 with 1 Axes>"
      ]
     },
     "metadata": {
      "needs_background": "light"
     },
     "output_type": "display_data"
    }
   ],
   "source": [
    "df['Calories']=df['Calories'].astype(int)\n",
    "\n",
    "print(df.dtypes,\"\\n\")\n",
    "\n",
    "#creating a scatter plot for Duration & Calories\n",
    "df.plot.scatter( x = 'Duration', y = 'Calories')"
   ]
  },
  {
   "cell_type": "markdown",
   "metadata": {},
   "source": [
    "Q3. Matplotlib\n",
    "1. Write a Python programming to create a below chart of the popularity of programming Languages.\n",
    "2. Sample data:\n",
    "Programming languages: Java, Python, PHP, JavaScript, C#, C++\n",
    "Popularity: 22.2, 17.6, 8.8, 8, 7.7, 6.7"
   ]
  },
  {
   "cell_type": "code",
   "execution_count": 55,
   "metadata": {},
   "outputs": [
    {
     "data": {
      "image/png": "[encoded data removed]",
      "text/plain": [
       "<Figure size 432x288 with 1 Axes>"
      ]
     },
     "metadata": {},
     "output_type": "display_data"
    }
   ],
   "source": [
    "import matplotlib.pyplot as plt\n",
    "\n",
    "# Data to plot\n",
    "languages = 'Java', 'Python', 'PHP', 'JavaScript', 'C#', 'C++'\n",
    "popuratity = [22.2, 17.6, 8.8, 8, 7.7, 6.7]\n",
    "colors = [\"#1f77b4\", \"#ff7f0e\", \"#2ca02c\", \"#d62728\", \"#9467bd\", \"#8c564b\"]\n",
    "\n",
    "# explode 1st slice\n",
    "explode = (0.1, 0, 0, 0,0,0)  \n",
    "\n",
    "# Plot\n",
    "plt.pie(popuratity, explode=explode, labels=languages, colors=colors,\n",
    "autopct='%1.1f%%', shadow=True, startangle=140)\n",
    "\n",
    "plt.axis('equal')\n",
    "plt.show()"
   ]
  }
 ],
 "metadata": {
  "kernelspec": {
   "display_name": "Python 3",
   "language": "python",
   "name": "python3"
  },
  "language_info": {
   "codemirror_mode": {
    "name": "ipython",
    "version": 3
   },
   "file_extension": ".py",
   "mimetype": "text/x-python",
   "name": "python",
   "nbconvert_exporter": "python",
   "pygments_lexer": "ipython3",
   "version": "3.7.4"
  }
 },
 "nbformat": 4,
 "nbformat_minor": 4
}
